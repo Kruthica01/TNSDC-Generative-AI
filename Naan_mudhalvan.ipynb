{
 "cells": [
  {
   "cell_type": "markdown",
   "id": "8267d2ad",
   "metadata": {},
   "source": [
    "# Prediction Of COVID-19 Based On X-Ray Images Using CNN"
   ]
  },
  {
   "cell_type": "code",
   "execution_count": 1,
   "id": "30faaaa4",
   "metadata": {},
   "outputs": [
    {
     "name": "stdout",
     "output_type": "stream",
     "text": [
      "Found 251 images belonging to 3 classes.\n",
      "Found 66 images belonging to 3 classes.\n"
     ]
    },
    {
     "name": "stderr",
     "output_type": "stream",
     "text": [
      "C:\\Users\\ANSTER  SELVARAJ\\AppData\\Local\\Temp\\ipykernel_2824\\1508546959.py:44: UserWarning: `Model.fit_generator` is deprecated and will be removed in a future version. Please use `Model.fit`, which supports generators.\n",
      "  Classifier.fit_generator(training_set,\n"
     ]
    },
    {
     "name": "stdout",
     "output_type": "stream",
     "text": [
      "Epoch 1/5\n",
      "40/40 [==============================] - 6s 120ms/step - loss: 0.0611 - accuracy: 0.3145 - val_loss: -2.5008 - val_accuracy: 0.5312\n",
      "Epoch 2/5\n",
      "40/40 [==============================] - 5s 116ms/step - loss: -10.7213 - accuracy: 0.3899 - val_loss: -42.9047 - val_accuracy: 0.6250\n",
      "Epoch 3/5\n",
      "40/40 [==============================] - 5s 115ms/step - loss: -344.4258 - accuracy: 0.3962 - val_loss: -165.0288 - val_accuracy: 0.3125\n",
      "Epoch 4/5\n",
      "40/40 [==============================] - 5s 113ms/step - loss: -624.0375 - accuracy: 0.3875 - val_loss: -1899.5437 - val_accuracy: 0.3125\n",
      "Epoch 5/5\n",
      "40/40 [==============================] - 5s 120ms/step - loss: -2412.5972 - accuracy: 0.4403 - val_loss: -3234.0591 - val_accuracy: 0.5312\n",
      "1/1 [==============================] - 0s 76ms/step\n",
      "Normal\n"
     ]
    }
   ],
   "source": [
    "from keras.models import Sequential\n",
    "from keras.layers import Conv2D\n",
    "from keras.layers import MaxPooling2D\n",
    "from keras.layers import Flatten\n",
    "from keras.layers import Dense\n",
    "\n",
    "Classifier=Sequential();\n",
    "\n",
    "Classifier.add(Conv2D(64,(3,3),input_shape=(64,64,3),activation='relu'))\n",
    "\n",
    "Classifier.add(MaxPooling2D(pool_size=(2,2)))\n",
    "\n",
    "Classifier.add(Conv2D(32,(3,3),activation='relu'))\n",
    "\n",
    "Classifier.add(MaxPooling2D(pool_size=(2,2)))\n",
    "\n",
    "Classifier.add(Flatten())\n",
    "\n",
    "Classifier.add(Dense(units=104, activation='relu'))\n",
    "Classifier.add(Dense(units=1, activation='sigmoid'))\n",
    "\n",
    "Classifier.compile(optimizer ='adam',loss='binary_crossentropy',metrics=['accuracy'])\n",
    "\n",
    "from keras.preprocessing.image import ImageDataGenerator\n",
    "\n",
    "train_datagen = ImageDataGenerator(rescale = 1./255,\n",
    "                                   shear_range = 0.4,\n",
    "                                   zoom_range = 0.3,\n",
    "                                   horizontal_flip = True)\n",
    "\n",
    "test_datagen = ImageDataGenerator(rescale = 1./255)\n",
    "\n",
    "training_set = train_datagen.flow_from_directory('C:/Users/ANSTER  SELVARAJ/Downloads/archive (6)/Covid19-dataset/train',\n",
    "                                                 target_size = (64, 64),\n",
    "                                                 batch_size = 4,\n",
    "                                                 class_mode = 'binary')\n",
    "\n",
    "test_set = test_datagen.flow_from_directory('C:/Users/ANSTER  SELVARAJ/Downloads/archive (6)/Covid19-dataset/test',\n",
    "                                            target_size = (64, 64),\n",
    "                                            batch_size = 4,\n",
    "                                            class_mode = 'binary')\n",
    "\n",
    "\n",
    "Classifier.fit_generator(training_set,\n",
    "                         steps_per_epoch = 40,\n",
    "                         epochs = 5,\n",
    "                         validation_data = test_set,\n",
    "                         validation_steps = 8)\n",
    "\n",
    "import numpy as np\n",
    "from keras.preprocessing import image\n",
    "test_image = image.load_img('C:/Users/ANSTER  SELVARAJ/Downloads/archive (6)/Covid19-dataset/test/Covid/0118.jpeg',target_size=(64,64))\n",
    "test_image = image.img_to_array(test_image)\n",
    "test_image = np.expand_dims(test_image,axis=0)\n",
    "result = Classifier.predict(test_image)\n",
    "training_set.class_indices\n",
    "if result[0][0] == 1:\n",
    "    prediction = 'Normal'\n",
    "    print(prediction)\n",
    "else:\n",
    "    prediction = 'COVID'\n",
    "    print(prediction)"
   ]
  },
  {
   "cell_type": "code",
   "execution_count": null,
   "id": "25b80b6c",
   "metadata": {},
   "outputs": [],
   "source": []
  }
 ],
 "metadata": {
  "kernelspec": {
   "display_name": "Python 3 (ipykernel)",
   "language": "python",
   "name": "python3"
  },
  "language_info": {
   "codemirror_mode": {
    "name": "ipython",
    "version": 3
   },
   "file_extension": ".py",
   "mimetype": "text/x-python",
   "name": "python",
   "nbconvert_exporter": "python",
   "pygments_lexer": "ipython3",
   "version": "3.10.9"
  }
 },
 "nbformat": 4,
 "nbformat_minor": 5
}
